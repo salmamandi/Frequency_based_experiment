{
 "cells": [
  {
   "cell_type": "code",
   "execution_count": 60,
   "metadata": {
    "scrolled": false
   },
   "outputs": [
    {
     "name": "stdout",
     "output_type": "stream",
     "text": [
      "Time_data/U1_LIHF_itd_file.csv\n",
      "{'Sad': 14, 'Relaxed': 30, 'Happy': 19, 'Stressed': 5}\n",
      "min key= Stressed\n",
      "min key value= 5\n"
     ]
    },
    {
     "name": "stderr",
     "output_type": "stream",
     "text": [
      "/home/salma/anaconda3/lib/python3.8/site-packages/imblearn/utils/_validation.py:635: FutureWarning: Pass sampling_strategy=all as keyword args. From version 0.9 passing these as positional arguments will result in an error\n",
      "  warnings.warn(\"Pass {} as keyword args. From version 0.9 \"\n"
     ]
    },
    {
     "name": "stdout",
     "output_type": "stream",
     "text": [
      "Happy= 30 sad= 30 stressed= 30 relaxed= 30\n",
      "(120, 4)\n",
      "happy score= 0.875\n",
      "sad_score= 0.9264264264264265\n",
      "stressed_score= 0.5654761904761905\n",
      "relax_score= 0.6866666666666666\n",
      "roc_auc_weight= 0.7721683173857087\n",
      "Time_data/U2_LIHF_itd_file.csv\n",
      "{'Relaxed': 12, 'Stressed': 2, 'Happy': 8, 'Sad': 5}\n",
      "min key= Stressed\n",
      "min key value= 2\n",
      "Happy= 12 sad= 12 stressed= 12 relaxed= 12\n",
      "(48, 4)\n"
     ]
    },
    {
     "name": "stderr",
     "output_type": "stream",
     "text": [
      "/home/salma/anaconda3/lib/python3.8/site-packages/imblearn/utils/_validation.py:635: FutureWarning: Pass sampling_strategy=all as keyword args. From version 0.9 passing these as positional arguments will result in an error\n",
      "  warnings.warn(\"Pass {} as keyword args. From version 0.9 \"\n"
     ]
    },
    {
     "name": "stdout",
     "output_type": "stream",
     "text": [
      "happy score= 0.9692307692307693\n",
      "sad_score= 0.9777777777777777\n",
      "stressed_score= 0.640625\n",
      "relax_score= 0.8125\n",
      "roc_auc_weight= 0.8644853988603989\n",
      "Time_data/U3_LIHF_itd_file.csv\n",
      "{'Relaxed': 19, 'Happy': 3, 'Sad': 4, 'Stressed': 1}\n",
      "min key= Stressed\n",
      "min key value= 1\n",
      "happy score= 0.6875\n",
      "sad_score= 0.7444444444444445\n",
      "stressed_score= 0.7058823529411764\n",
      "relax_score= 0.5555555555555556\n",
      "roc_auc_weight= 0.6100490196078431\n",
      "Time_data/U4_LIHF_itd_file.csv\n",
      "{'Relaxed': 40, 'Sad': 9, 'Happy': 3, 'Stressed': 18}\n",
      "min key= Happy\n",
      "min key value= 3\n",
      "Happy= 40 sad= 40 stressed= 40 relaxed= 40\n",
      "(160, 4)\n"
     ]
    },
    {
     "name": "stderr",
     "output_type": "stream",
     "text": [
      "/home/salma/anaconda3/lib/python3.8/site-packages/imblearn/utils/_validation.py:635: FutureWarning: Pass sampling_strategy=all as keyword args. From version 0.9 passing these as positional arguments will result in an error\n",
      "  warnings.warn(\"Pass {} as keyword args. From version 0.9 \"\n"
     ]
    },
    {
     "name": "stdout",
     "output_type": "stream",
     "text": [
      "happy score= 0.9347826086956521\n",
      "sad_score= 0.8849206349206349\n",
      "stressed_score= 0.6681318681318681\n",
      "relax_score= 0.7477954144620811\n",
      "roc_auc_weight= 0.7511516563146997\n",
      "Time_data/U5_LIHF_itd_file.csv\n",
      "{'Relaxed': 20, 'Happy': 12, 'Sad': 5, 'Stressed': 2}\n",
      "min key= Stressed\n",
      "min key value= 2\n",
      "Happy= 20 sad= 20 stressed= 20 relaxed= 20\n",
      "(80, 4)\n"
     ]
    },
    {
     "name": "stderr",
     "output_type": "stream",
     "text": [
      "/home/salma/anaconda3/lib/python3.8/site-packages/imblearn/utils/_validation.py:635: FutureWarning: Pass sampling_strategy=all as keyword args. From version 0.9 passing these as positional arguments will result in an error\n",
      "  warnings.warn(\"Pass {} as keyword args. From version 0.9 \"\n"
     ]
    },
    {
     "name": "stdout",
     "output_type": "stream",
     "text": [
      "happy score= 0.9144736842105263\n",
      "sad_score= 0.8913043478260869\n",
      "stressed_score= 0.12\n",
      "relax_score= 0.7445054945054945\n",
      "roc_auc_weight= 0.7703547516133329\n",
      "Time_data/U6_LIHF_itd_file.csv\n",
      "{'Stressed': 1, 'Relaxed': 17, 'Happy': 7, 'Sad': 4}\n",
      "min key= Stressed\n",
      "min key value= 1\n",
      "happy score= 0.84\n",
      "sad_score= 1.0\n",
      "stressed_score= 0.39473684210526316\n",
      "relax_score= 0.7083333333333334\n",
      "roc_auc_weight= 0.7547368421052632\n",
      "Time_data/U7_LIHF_itd_file.csv\n",
      "{'Happy': 22, 'Relaxed': 31, 'Sad': 8, 'Stressed': 5}\n",
      "min key= Stressed\n",
      "min key value= 5\n",
      "Happy= 31 sad= 31 stressed= 31 relaxed= 31\n",
      "(124, 4)\n"
     ]
    },
    {
     "name": "stderr",
     "output_type": "stream",
     "text": [
      "/home/salma/anaconda3/lib/python3.8/site-packages/imblearn/utils/_validation.py:635: FutureWarning: Pass sampling_strategy=all as keyword args. From version 0.9 passing these as positional arguments will result in an error\n",
      "  warnings.warn(\"Pass {} as keyword args. From version 0.9 \"\n"
     ]
    },
    {
     "name": "stdout",
     "output_type": "stream",
     "text": [
      "happy score= 0.9377777777777777\n",
      "sad_score= 0.975\n",
      "stressed_score= 0.7865853658536586\n",
      "relax_score= 0.9196428571428572\n",
      "roc_auc_weight= 0.9200112917795844\n",
      "Time_data/U8_LIHF_itd_file.csv\n"
     ]
    },
    {
     "name": "stderr",
     "output_type": "stream",
     "text": [
      "/home/salma/anaconda3/lib/python3.8/site-packages/sklearn/multiclass.py:76: UserWarning: Label not 1 is present in all training examples.\n",
      "  warnings.warn(\"Label %s is present in all training examples.\" %\n",
      "/home/salma/anaconda3/lib/python3.8/site-packages/sklearn/metrics/_ranking.py:811: UndefinedMetricWarning: No positive samples in y_true, true positive value should be meaningless\n",
      "  warnings.warn(\"No positive samples in y_true, \"\n",
      "/home/salma/anaconda3/lib/python3.8/site-packages/imblearn/utils/_validation.py:635: FutureWarning: Pass sampling_strategy=all as keyword args. From version 0.9 passing these as positional arguments will result in an error\n",
      "  warnings.warn(\"Pass {} as keyword args. From version 0.9 \"\n"
     ]
    },
    {
     "name": "stdout",
     "output_type": "stream",
     "text": [
      "happy score= 0.7166666666666667\n",
      "sad_score= 0.5\n",
      "relax_score= 0.75\n",
      "roc_auc_weight= 0.7090909090909091\n",
      "Time_data/U9_LIHF_itd_file.csv\n",
      "{'Sad': 7, 'Relaxed': 15, 'Happy': 3, 'Stressed': 2}\n",
      "min key= Stressed\n",
      "min key value= 2\n",
      "Happy= 15 sad= 15 stressed= 15 relaxed= 15\n",
      "(60, 4)\n",
      "happy score= 0.671875\n",
      "sad_score= 0.7857142857142857\n",
      "stressed_score= 0.671875\n",
      "relax_score= 0.5\n",
      "roc_auc_weight= 0.6016865079365079\n",
      "Time_data/U10_LIHF_itd_file.csv\n"
     ]
    },
    {
     "name": "stderr",
     "output_type": "stream",
     "text": [
      "/home/salma/anaconda3/lib/python3.8/site-packages/sklearn/metrics/_ranking.py:811: UndefinedMetricWarning: No positive samples in y_true, true positive value should be meaningless\n",
      "  warnings.warn(\"No positive samples in y_true, \"\n",
      "/home/salma/anaconda3/lib/python3.8/site-packages/imblearn/utils/_validation.py:635: FutureWarning: Pass sampling_strategy=all as keyword args. From version 0.9 passing these as positional arguments will result in an error\n",
      "  warnings.warn(\"Pass {} as keyword args. From version 0.9 \"\n",
      "/home/salma/anaconda3/lib/python3.8/site-packages/sklearn/multiclass.py:76: UserWarning: Label not 0 is present in all training examples.\n",
      "  warnings.warn(\"Label %s is present in all training examples.\" %\n"
     ]
    },
    {
     "name": "stdout",
     "output_type": "stream",
     "text": [
      "happy score= 0.2857142857142857\n",
      "sad_score= 0.5699588477366255\n",
      "relax_score= 0.5134615384615384\n",
      "roc_auc_weight= 0.5212595532039975\n",
      "Time_data/U11_LIHF_itd_file.csv\n",
      "{'Relaxed': 13, 'Sad': 11, 'Stressed': 8}\n",
      "min key= Stressed\n",
      "min key value= 8\n",
      "Happy= 0 sad= 13 stressed= 13 relaxed= 13\n",
      "(39, 4)\n"
     ]
    },
    {
     "name": "stderr",
     "output_type": "stream",
     "text": [
      "/home/salma/anaconda3/lib/python3.8/site-packages/sklearn/metrics/_ranking.py:811: UndefinedMetricWarning: No positive samples in y_true, true positive value should be meaningless\n",
      "  warnings.warn(\"No positive samples in y_true, \"\n",
      "/home/salma/anaconda3/lib/python3.8/site-packages/imblearn/utils/_validation.py:635: FutureWarning: Pass sampling_strategy=all as keyword args. From version 0.9 passing these as positional arguments will result in an error\n",
      "  warnings.warn(\"Pass {} as keyword args. From version 0.9 \"\n"
     ]
    },
    {
     "name": "stdout",
     "output_type": "stream",
     "text": [
      "sad_score= 0.4107142857142857\n",
      "stressed_score= 0.6588235294117648\n",
      "relax_score= 0.48717948717948717\n",
      "roc_auc_weight= 0.49838396897220427\n",
      "Time_data/U12_LIHF_itd_file.csv\n",
      "{'Relaxed': 179, 'Stressed': 19, 'Happy': 6}\n",
      "min key= Happy\n",
      "min key value= 6\n",
      "Happy= 179 sad= 0 stressed= 179 relaxed= 179\n",
      "(537, 4)\n"
     ]
    },
    {
     "name": "stderr",
     "output_type": "stream",
     "text": [
      "/home/salma/anaconda3/lib/python3.8/site-packages/sklearn/multiclass.py:76: UserWarning: Label not 1 is present in all training examples.\n",
      "  warnings.warn(\"Label %s is present in all training examples.\" %\n",
      "/home/salma/anaconda3/lib/python3.8/site-packages/sklearn/metrics/_ranking.py:811: UndefinedMetricWarning: No positive samples in y_true, true positive value should be meaningless\n",
      "  warnings.warn(\"No positive samples in y_true, \"\n",
      "/home/salma/anaconda3/lib/python3.8/site-packages/imblearn/utils/_validation.py:635: FutureWarning: Pass sampling_strategy=all as keyword args. From version 0.9 passing these as positional arguments will result in an error\n",
      "  warnings.warn(\"Pass {} as keyword args. From version 0.9 \"\n"
     ]
    },
    {
     "name": "stdout",
     "output_type": "stream",
     "text": [
      "happy score= 0.9043560606060606\n",
      "stressed_score= 0.6504065040650406\n",
      "relax_score= 0.7172516065249628\n",
      "roc_auc_weight= 0.7163650733216201\n",
      "Time_data/U13_LIHF_itd_file.csv\n",
      "{'Happy': 8, 'Sad': 2, 'Stressed': 16, 'Relaxed': 14}\n",
      "min key= Sad\n",
      "min key value= 2\n",
      "Happy= 16 sad= 16 stressed= 16 relaxed= 16\n",
      "(64, 4)\n",
      "happy score= 0.3492063492063492\n",
      "sad_score= 0.3653846153846154\n",
      "stressed_score= 0.5235294117647059\n",
      "relax_score= 0.5441176470588235\n",
      "roc_auc_weight= 0.486559011068815\n",
      "Time_data/U14_LIHF_itd_file.csv\n",
      "{'Relaxed': 18, 'Happy': 1, 'Sad': 4, 'Stressed': 4}\n",
      "min key= Happy\n",
      "min key value= 1\n",
      "happy score= 0.4722222222222222\n",
      "sad_score= 0.6176470588235294\n",
      "stressed_score= 0.49999999999999994\n",
      "relax_score= 0.48717948717948717\n",
      "roc_auc_weight= 0.5021499828001377\n",
      "Time_data/U15_LIHF_itd_file.csv\n",
      "{'Relaxed': 68, 'Happy': 7, 'Sad': 13}\n",
      "min key= Happy\n",
      "min key value= 7\n",
      "Happy= 68 sad= 68 stressed= 0 relaxed= 68\n",
      "(204, 4)\n"
     ]
    },
    {
     "name": "stderr",
     "output_type": "stream",
     "text": [
      "/home/salma/anaconda3/lib/python3.8/site-packages/imblearn/utils/_validation.py:635: FutureWarning: Pass sampling_strategy=all as keyword args. From version 0.9 passing these as positional arguments will result in an error\n",
      "  warnings.warn(\"Pass {} as keyword args. From version 0.9 \"\n",
      "/home/salma/anaconda3/lib/python3.8/site-packages/sklearn/multiclass.py:76: UserWarning: Label not 2 is present in all training examples.\n",
      "  warnings.warn(\"Label %s is present in all training examples.\" %\n",
      "/home/salma/anaconda3/lib/python3.8/site-packages/sklearn/metrics/_ranking.py:811: UndefinedMetricWarning: No positive samples in y_true, true positive value should be meaningless\n",
      "  warnings.warn(\"No positive samples in y_true, \"\n"
     ]
    },
    {
     "name": "stdout",
     "output_type": "stream",
     "text": [
      "happy score= 0.7381818181818182\n",
      "sad_score= 0.5997596153846154\n",
      "relax_score= 0.6734860883797054\n",
      "roc_auc_weight= 0.6690472027972028\n",
      "Time_data/U16_LIHF_itd_file.csv\n"
     ]
    },
    {
     "name": "stderr",
     "output_type": "stream",
     "text": [
      "/home/salma/anaconda3/lib/python3.8/site-packages/sklearn/metrics/_ranking.py:811: UndefinedMetricWarning: No positive samples in y_true, true positive value should be meaningless\n",
      "  warnings.warn(\"No positive samples in y_true, \"\n",
      "/home/salma/anaconda3/lib/python3.8/site-packages/sklearn/multiclass.py:76: UserWarning: Label not 0 is present in all training examples.\n",
      "  warnings.warn(\"Label %s is present in all training examples.\" %\n"
     ]
    },
    {
     "name": "stdout",
     "output_type": "stream",
     "text": [
      "sad_score= 0.6648550724637681\n",
      "stressed_score= 0.5273333333333333\n",
      "relax_score= 0.44645550527903466\n",
      "roc_auc_weight= 0.5172032506014199\n",
      "Time_data/U17_LIHF_itd_file.csv\n",
      "{'Relaxed': 27, 'Stressed': 25, 'Sad': 1}\n",
      "min key= Sad\n",
      "min key value= 1\n"
     ]
    },
    {
     "name": "stderr",
     "output_type": "stream",
     "text": [
      "/home/salma/anaconda3/lib/python3.8/site-packages/sklearn/metrics/_ranking.py:811: UndefinedMetricWarning: No positive samples in y_true, true positive value should be meaningless\n",
      "  warnings.warn(\"No positive samples in y_true, \"\n",
      "/home/salma/anaconda3/lib/python3.8/site-packages/imblearn/utils/_validation.py:635: FutureWarning: Pass sampling_strategy=all as keyword args. From version 0.9 passing these as positional arguments will result in an error\n",
      "  warnings.warn(\"Pass {} as keyword args. From version 0.9 \"\n"
     ]
    },
    {
     "name": "stdout",
     "output_type": "stream",
     "text": [
      "sad_score= 0.37142857142857144\n",
      "stressed_score= 0.46406249999999993\n",
      "relax_score= 0.3668730650154799\n",
      "roc_auc_weight= 0.41019491129785246\n",
      "Time_data/U18_LIHF_itd_file.csv\n",
      "{'Happy': 15, 'Stressed': 2, 'Relaxed': 5}\n",
      "min key= Stressed\n",
      "min key value= 2\n",
      "Happy= 15 sad= 0 stressed= 15 relaxed= 15\n",
      "(45, 4)\n"
     ]
    },
    {
     "name": "stderr",
     "output_type": "stream",
     "text": [
      "/home/salma/anaconda3/lib/python3.8/site-packages/sklearn/multiclass.py:76: UserWarning: Label not 1 is present in all training examples.\n",
      "  warnings.warn(\"Label %s is present in all training examples.\" %\n",
      "/home/salma/anaconda3/lib/python3.8/site-packages/sklearn/metrics/_ranking.py:811: UndefinedMetricWarning: No positive samples in y_true, true positive value should be meaningless\n",
      "  warnings.warn(\"No positive samples in y_true, \"\n",
      "/home/salma/anaconda3/lib/python3.8/site-packages/imblearn/utils/_validation.py:635: FutureWarning: Pass sampling_strategy=all as keyword args. From version 0.9 passing these as positional arguments will result in an error\n",
      "  warnings.warn(\"Pass {} as keyword args. From version 0.9 \"\n"
     ]
    },
    {
     "name": "stdout",
     "output_type": "stream",
     "text": [
      "happy score= 0.9181818181818182\n",
      "stressed_score= 1.0\n",
      "relax_score= 0.875\n",
      "roc_auc_weight= 0.9125\n",
      "Time_data/U19_LIHF_itd_file.csv\n",
      "{'Happy': 32, 'Relaxed': 25, 'Stressed': 4, 'Sad': 6}\n",
      "min key= Stressed\n",
      "min key value= 4\n",
      "Happy= 32 sad= 32 stressed= 32 relaxed= 32\n",
      "(128, 4)\n",
      "happy score= 0.691699604743083\n",
      "sad_score= 0.32926829268292684\n",
      "stressed_score= 0.6825396825396826\n",
      "relax_score= 0.6616379310344828\n",
      "roc_auc_weight= 0.6481842315388957\n",
      "Time_data/U20_LIHF_itd_file.csv\n",
      "{'Happy': 51, 'Stressed': 33, 'Relaxed': 11, 'Sad': 14}\n",
      "min key= Relaxed\n",
      "min key value= 11\n",
      "Happy= 51 sad= 51 stressed= 51 relaxed= 51\n",
      "(204, 4)\n"
     ]
    },
    {
     "name": "stderr",
     "output_type": "stream",
     "text": [
      "/home/salma/anaconda3/lib/python3.8/site-packages/imblearn/utils/_validation.py:635: FutureWarning: Pass sampling_strategy=all as keyword args. From version 0.9 passing these as positional arguments will result in an error\n",
      "  warnings.warn(\"Pass {} as keyword args. From version 0.9 \"\n"
     ]
    },
    {
     "name": "stdout",
     "output_type": "stream",
     "text": [
      "happy score= 0.6546003016591252\n",
      "sad_score= 0.6953125\n",
      "stressed_score= 0.5739750445632799\n",
      "relax_score= 0.7692307692307693\n",
      "roc_auc_weight= 0.6478838341184735\n",
      "Time_data/U21_LIHF_itd_file.csv\n",
      "{'Relaxed': 35, 'Stressed': 5, 'Happy': 22, 'Sad': 3}\n",
      "min key= Sad\n",
      "min key value= 3\n",
      "Happy= 35 sad= 35 stressed= 35 relaxed= 35\n",
      "(140, 4)\n"
     ]
    },
    {
     "name": "stderr",
     "output_type": "stream",
     "text": [
      "/home/salma/anaconda3/lib/python3.8/site-packages/imblearn/utils/_validation.py:635: FutureWarning: Pass sampling_strategy=all as keyword args. From version 0.9 passing these as positional arguments will result in an error\n",
      "  warnings.warn(\"Pass {} as keyword args. From version 0.9 \"\n"
     ]
    },
    {
     "name": "stdout",
     "output_type": "stream",
     "text": [
      "happy score= 0.5345238095238095\n",
      "sad_score= 0.761904761904762\n",
      "stressed_score= 0.415625\n",
      "relax_score= 0.6104166666666666\n",
      "roc_auc_weight= 0.5754464285714286\n",
      "Time_data/U22_LIHF_itd_file.csv\n",
      "{'Happy': 9, 'Relaxed': 15, 'Stressed': 3}\n",
      "min key= Stressed\n",
      "min key value= 3\n",
      "Happy= 15 sad= 0 stressed= 15 relaxed= 15\n",
      "(45, 4)\n"
     ]
    },
    {
     "name": "stderr",
     "output_type": "stream",
     "text": [
      "/home/salma/anaconda3/lib/python3.8/site-packages/imblearn/utils/_validation.py:635: FutureWarning: Pass sampling_strategy=all as keyword args. From version 0.9 passing these as positional arguments will result in an error\n",
      "  warnings.warn(\"Pass {} as keyword args. From version 0.9 \"\n",
      "/home/salma/anaconda3/lib/python3.8/site-packages/sklearn/multiclass.py:76: UserWarning: Label not 1 is present in all training examples.\n",
      "  warnings.warn(\"Label %s is present in all training examples.\" %\n"
     ]
    },
    {
     "name": "stdout",
     "output_type": "stream",
     "text": [
      "happy score= 0.6858974358974359\n",
      "stressed_score= 0.7708333333333334\n",
      "relax_score= 0.7000000000000001\n",
      "roc_auc_weight= 0.7067307692307693\n"
     ]
    },
    {
     "name": "stderr",
     "output_type": "stream",
     "text": [
      "/home/salma/anaconda3/lib/python3.8/site-packages/sklearn/metrics/_ranking.py:811: UndefinedMetricWarning: No positive samples in y_true, true positive value should be meaningless\n",
      "  warnings.warn(\"No positive samples in y_true, \"\n"
     ]
    }
   ],
   "source": [
    "import pandas as pd\n",
    "from sklearn.model_selection import train_test_split\n",
    "import numpy as np\n",
    "from imblearn.over_sampling import SMOTE\n",
    "from sklearn.preprocessing import label_binarize\n",
    "from sklearn.multiclass import OneVsRestClassifier\n",
    "from sklearn.ensemble import RandomForestClassifier\n",
    "from sklearn.metrics import roc_curve, auc\n",
    "import math\n",
    "import statistics\n",
    "\n",
    "with open(\"resultfile.csv\",'w') as resultfile:\n",
    "    header='user_no,accu,happy_accu,sad_accu,stress_accu,relax_accu\\n'\n",
    "    resultfile.write(header)\n",
    "\n",
    "    for user in range(1,23,1):\n",
    "        # read file to build personalized model for each user\n",
    "        user_data=\"featured_files/user_\"+str(user)+\"_v4.csv\"\n",
    "        print(user_data)\n",
    "        dataset=pd.read_csv(user_data)\n",
    "        array=dataset.values\n",
    "        X_set=array[:,3:6]\n",
    "        Y_set=array[:,8]\n",
    "        \n",
    "        \n",
    "        happy_count=0\n",
    "        sad_count=0\n",
    "        stressed_count=0\n",
    "        relaxed_count=0\n",
    "        # user 8,10 and 16 is not suitable for SMOTE \n",
    "        # as there is only one sample in class with minimum number of sample\n",
    "        if(user==8 or user==10 or user==16):\n",
    "            X_train,X_test,Y_train,Y_test=train_test_split(X_set,Y_set,test_size=0.4,random_state=42)\n",
    "            X_res=X_train\n",
    "            Y_res=label_binarize(Y_train,classes=['Happy','Sad','Stressed','Relaxed'])\n",
    "        else:\n",
    "        \n",
    "            X_train,X_test,Y_train,Y_test=train_test_split(X_set,Y_set,test_size=0.4,stratify=Y_set)\n",
    "            \n",
    "            \n",
    "            # count the number of samples in training data for each class and store in sample_count\n",
    "            sample_count=dict()\n",
    "            \n",
    "        \n",
    "            for i in range(len(Y_train)):\n",
    "                \n",
    "                if(Y_train[i]==\"Happy\"):\n",
    "                    happy_count+=1\n",
    "                    sample_count[\"Happy\"]=happy_count\n",
    "                elif(Y_train[i]==\"Sad\"):\n",
    "                    sad_count+=1\n",
    "                    sample_count[\"Sad\"]=sad_count\n",
    "                elif(Y_train[i]==\"Stressed\"):\n",
    "                    stressed_count+=1\n",
    "                    sample_count[\"Stressed\"]=stressed_count\n",
    "                else:\n",
    "                    relaxed_count+=1\n",
    "                    sample_count[\"Relaxed\"]=relaxed_count\n",
    "                  \n",
    "           \n",
    "            print(sample_count)\n",
    "            \n",
    "            # find the class with minimum number of sample\n",
    "            min_key=min(sample_count, key=lambda k: sample_count[k])\n",
    "            print(\"min key=\",min_key)\n",
    "            min_key_value=sample_count[min_key] \n",
    "            print(\"min key value=\",min_key_value)\n",
    "            \n",
    "            \n",
    "            # Set the number of nearest neighbour=one less than the sample count in minor class\n",
    "            # if min_key_value greater than 1, then number of nearest number>0 \n",
    "            if(min_key_value>1):\n",
    "            \n",
    "                Y_train=np.reshape(Y_train,(len(Y_train),1))\n",
    "                \n",
    "                # apply SMOTE and upsample all classes to make the sample count equal to the major class\n",
    "                sm=SMOTE('all',random_state=2,k_neighbors=min_key_value-1)\n",
    "                # X_res and Y_res become the training data\n",
    "                X_res,Y_res=sm.fit_sample(X_train,Y_train)\n",
    "                \n",
    "                \n",
    "                happy_res=0\n",
    "                sad_res=0\n",
    "                stressed_res=0\n",
    "                relaxed_res=0\n",
    "                \n",
    "                for i in range(len(Y_res)):\n",
    "                    if(Y_res[i]==\"Happy\"):\n",
    "                        happy_res+=1\n",
    "                    \n",
    "                    elif(Y_res[i]==\"Sad\"):\n",
    "                        sad_res+=1\n",
    "                    \n",
    "                    elif(Y_res[i]==\"Stressed\"):\n",
    "                        stressed_res+=1\n",
    "                    \n",
    "                    else:\n",
    "                        relaxed_res+=1\n",
    "                    \n",
    "                print(\"Happy=\",happy_res,\"sad=\",sad_res,\"stressed=\",stressed_res,\"relaxed=\",relaxed_res)\n",
    "                Y_res=label_binarize(Y_res,classes=['Happy','Sad','Stressed','Relaxed'])\n",
    "                print(Y_res.shape)\n",
    "            else:\n",
    "                X_res=X_train\n",
    "                Y_res=label_binarize(Y_train,classes=['Happy','Sad','Stressed','Relaxed'])\n",
    "           \n",
    "        Y_test=label_binarize(Y_test,classes=['Happy','Sad','Stressed','Relaxed'])\n",
    "        \n",
    "        roc_auc_avg=[]\n",
    "        happy_list=[]\n",
    "        sad_list=[]\n",
    "        stressed_list=[]\n",
    "        relaxed_list=[]\n",
    "        \n",
    "        fpr = dict()\n",
    "        tpr = dict()\n",
    "        roc_auc = dict()\n",
    "        # one model for each emotion class as it is multiclass classification problem\n",
    "        clf=OneVsRestClassifier(RandomForestClassifier(n_estimators=100))\n",
    "        Y_prob=clf.fit(X_res,Y_res).predict_proba(X_test)\n",
    "        # Calculate weighted AUCROC score for emotion-wise and user-wise\n",
    "        for i in range(4):\n",
    "            fpr[i], tpr[i], _ = roc_curve(Y_test[:, i], Y_prob[:, i])\n",
    "            roc_auc[i] = auc(fpr[i], tpr[i])\n",
    "            if(math.isnan(roc_auc[i])):\n",
    "                        continue\n",
    "            elif(i==0):\n",
    "                happy_list.append(roc_auc[i])\n",
    "                        \n",
    "            elif(i==1):\n",
    "                sad_list.append(roc_auc[i])\n",
    "                        \n",
    "            elif(i==2):\n",
    "                stressed_list.append(roc_auc[i])\n",
    "                        \n",
    "            else:\n",
    "                relaxed_list.append(roc_auc[i])\n",
    "         \n",
    "        happy_score,sad_score,stress_score,relax_score=0,0,0,0\n",
    "        if(len(happy_list)!=0):\n",
    "            happy_score=statistics.mean(happy_list)\n",
    "            print(\"happy score=\",happy_score)    \n",
    "        if(len(sad_list)!=0):\n",
    "            sad_score=statistics.mean(sad_list)\n",
    "            print(\"sad_score=\",sad_score)    \n",
    "        if(len(stressed_list)!=0):\n",
    "            stress_score=statistics.mean(stressed_list)\n",
    "            print(\"stressed_score=\",stress_score)    \n",
    "        if(len(relaxed_list)!=0):    \n",
    "            relax_score=statistics.mean(relaxed_list)\n",
    "            print(\"relax_score=\",relax_score) \n",
    "        \n",
    "        roc_auc_weight=0\n",
    "        happy_entry,sad_entry,stress_entry,relax_entry=0,0,0,0\n",
    "\n",
    "        for i in range(4):\n",
    "            no_entry=sum(Y_test[:,i]==1)\n",
    "            if(i==0):\n",
    "                happy_entry=no_entry\n",
    "            elif(i==1):\n",
    "                sad_entry=no_entry\n",
    "            elif(i==2):\n",
    "                stress_entry=no_entry\n",
    "            else:\n",
    "                relax_entry=no_entry\n",
    "            \n",
    "                        \n",
    "        roc_auc_weight=((happy_entry*happy_score)+(sad_entry*sad_score)+(stress_entry*stress_score)+(relax_score*relax_entry))/X_test.shape[0]\n",
    "        print(\"roc_auc_weight=\",roc_auc_weight)  \n",
    "        line=str(user)+','+str(roc_auc_weight)+','+str(happy_score)+','+str(sad_score)+','+str(stress_score)+','+str(relax_score)+'\\n'\n",
    "        resultfile.write(line)\n",
    "        "
   ]
  }
 ],
 "metadata": {
  "kernelspec": {
   "display_name": "Python 3",
   "language": "python",
   "name": "python3"
  },
  "language_info": {
   "codemirror_mode": {
    "name": "ipython",
    "version": 3
   },
   "file_extension": ".py",
   "mimetype": "text/x-python",
   "name": "python",
   "nbconvert_exporter": "python",
   "pygments_lexer": "ipython3",
   "version": "3.8.3"
  }
 },
 "nbformat": 4,
 "nbformat_minor": 4
}
