{
 "cells": [
  {
   "cell_type": "code",
   "execution_count": 15,
   "metadata": {
    "scrolled": true
   },
   "outputs": [],
   "source": [
    "import pandas as pd\n",
    "from imblearn.over_sampling import SMOTE\n",
    "import os\n",
    "import numpy as np\n",
    "from imblearn.over_sampling import SMOTE\n",
    "import warnings\n",
    "warnings.simplefilter('ignore')\n",
    "from numpy import nan"
   ]
  },
  {
   "cell_type": "code",
   "execution_count": 17,
   "metadata": {},
   "outputs": [],
   "source": [
    "filename=\"U19_LIHF_itd_file.csv\"\n",
    "url=\"SMOTE_folder/All_amp/\"+filename\n",
    "#url=\"SMOTE_folder/Time_dataset_new_ICASSP/\"+\"U\"+str(1)+\"_LIHF_itd_file.csv\"\n",
    "\n",
    "#url=\"Experiment_Space/Spectral_Experiment/N-number_components/SMOTE_n/\"+filename\n",
    "dataset = pd.read_csv(url,header=None)\n",
    "###########################################################\n",
    "#print(dataset.describe()) \n",
    "#dataset[[1,2,3,4,5,6,7,8,9,10,11,12,13,14,15]] = dataset[[1,2,3,4,5,6,7,8,9,10,11,12,13,14,15]].replace(0, nan)\n",
    "#dataset.dropna(inplace=True)\n",
    "#print(dataset.describe()) \n",
    "#################################################################\n",
    "\n"
   ]
  },
  {
   "cell_type": "code",
   "execution_count": 18,
   "metadata": {
    "scrolled": true
   },
   "outputs": [
    {
     "name": "stdout",
     "output_type": "stream",
     "text": [
      "(119, 598)\n",
      "<class 'numpy.ndarray'>\n"
     ]
    }
   ],
   "source": [
    "array = dataset.values\n",
    "#print total number of samples in file\n",
    "print(array.shape)\n",
    "print(type(array))\n",
    "###############################################################\n",
    "#with open(\"encoded_input/Window_SMOTE/\"+filename,'w') as result:\n",
    "    #np.savetxt(result,array,delimiter=',', fmt='%f')\n",
    "##############################################n=3#############\n",
    "#####This part is for n frequency component######\n",
    "#n=3\n",
    "#feature_no=n*2+(n-1)\n",
    "#print(feature_no)\n",
    "##################################################\n",
    "col_no=array.shape[1]\n",
    "feature_no=col_no-1\n",
    "X_set=array[:,0:feature_no]\n",
    "#print(type(X_set))\n",
    "#X_set=np.where(array[:,0:feature_no] >= np.finfo(np.float64).max)\n",
    "\n",
    "#print(X_set)\n",
    "Y_set=array[:,feature_no]\n",
    "#print(Y_set)\n",
    "sample_count=dict()\n",
    "\n",
    "Y_series=pd.DataFrame(Y_set,columns=['0'])\n",
    "##### This part is for emotion label represented by code #########            \n",
    "happy_set=Y_series[Y_series['0']==float(2)]\n",
    "sad_set=Y_series[Y_series['0']==float(-2)]\n",
    "stress_set=Y_series[Y_series['0']==float(1)]\n",
    "relax_set=Y_series[Y_series['0']==float(0)]\n",
    "##############################################################\n",
    "#happy_set=Y_series[Y_series['0']==\"Happy\"]\n",
    "#sad_set=Y_series[Y_series['0']==\"Sad\"]\n",
    "#stress_set=Y_series[Y_series['0']==\"Stressed\"]\n",
    "#relax_set=Y_series[Y_series['0']==\"Relaxed\"]\n"
   ]
  },
  {
   "cell_type": "code",
   "execution_count": 19,
   "metadata": {},
   "outputs": [
    {
     "name": "stdout",
     "output_type": "stream",
     "text": [
      "{2: 54, -2: 10, 1: 14, 0: 41}\n",
      "-2\n",
      "{-2: 12}\n"
     ]
    }
   ],
   "source": [
    "if(happy_set.shape[0]!=0):\n",
    "        #sample_count[\"Happy\"]=happy_set.shape[0]\n",
    "        sample_count[2]=happy_set.shape[0]\n",
    "if(sad_set.shape[0]!=0):\n",
    "        #sample_count[\"Sad\"]=sad_set.shape[0]\n",
    "        sample_count[-2]=sad_set.shape[0]\n",
    "if(stress_set.shape[0]!=0):\n",
    "        #sample_count[\"Stressed\"]=stress_set.shape[0]\n",
    "        sample_count[1]=stress_set.shape[0]        \n",
    "if(relax_set.shape[0]!=0):\n",
    "      #sample_count[\"Relaxed\"]=relax_set.shape[0]\n",
    "        sample_count[0]=relax_set.shape[0]  \n",
    "print(sample_count) \n",
    "smote_dict=dict()\n",
    "min_key=min(sample_count, key=lambda k: sample_count[k])\n",
    "min_key_value=sample_count[min_key]\n",
    "print(min_key)\n",
    "#print(min_key_value)\n",
    "#sample_count.clear()\n",
    "\n",
    "\n",
    "smote_dict[2]=\n",
    "smote_dict[1]=18\n",
    "#smote_dict[\"Relaxed\"]=42\n",
    "#smote_dict[min_key]=12\n",
    "\n",
    "\n",
    "print(smote_dict)\n"
   ]
  },
  {
   "cell_type": "code",
   "execution_count": 16,
   "metadata": {},
   "outputs": [
    {
     "name": "stdout",
     "output_type": "stream",
     "text": [
      "(55, 78)\n",
      "55\n",
      "(55, 1)\n",
      "(55, 79)\n"
     ]
    }
   ],
   "source": [
    "sm=SMOTE(smote_dict,random_state=2,k_neighbors=min_key_value-1)\n",
    "X_res, Y_res = sm.fit_sample(X_set, Y_set.ravel())\n",
    "print(X_res.shape)\n",
    "print(Y_res.shape[0])\n",
    "Y_res.resize((Y_res.shape[0],1))\n",
    "print(Y_res.shape)\n",
    "data_array=np.concatenate((X_res,Y_res),axis=1)\n",
    "print(data_array.shape)\n",
    "with open(\"SMOTE_folder/All_amp/\"+filename,'w') as result:\n",
    "    np.savetxt(result,data_array,delimiter=',', fmt='%f')\n",
    "#data_file=pd.DataFrame.from_records(data_array,columns=['MSI','first','second','third','label'])\n",
    "#print(data_file.shape)\n",
    "#with open(\"SMOTE_folder/Time_dataset_new_ICASSP/\"+filename,'w') as result:\n",
    "    #data_file.to_csv(result,index=False)\n",
    "    "
   ]
  }
 ],
 "metadata": {
  "kernelspec": {
   "display_name": "Python 3",
   "language": "python",
   "name": "python3"
  },
  "language_info": {
   "codemirror_mode": {
    "name": "ipython",
    "version": 3
   },
   "file_extension": ".py",
   "mimetype": "text/x-python",
   "name": "python",
   "nbconvert_exporter": "python",
   "pygments_lexer": "ipython3",
   "version": "3.7.7"
  }
 },
 "nbformat": 4,
 "nbformat_minor": 2
}
