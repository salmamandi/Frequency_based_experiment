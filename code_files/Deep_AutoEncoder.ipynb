{
 "cells": [
  {
   "cell_type": "code",
   "execution_count": 12,
   "metadata": {},
   "outputs": [],
   "source": [
    "from keras.layers import Input, Dense\n",
    "from keras.models import Model\n",
    "import numpy as np\n",
    "import pandas as pd\n",
    "import matplotlib.pyplot as plt\n",
    "#import linalg as LA\n",
    "import sklearn\n",
    "from sklearn import metrics\n",
    "from sklearn import preprocessing\n",
    "\n",
    "\n",
    "usr_dir=\"Raw_data/Amp/\"\n",
    "user_file=usr_dir+\"U\"+str(20)+\"_LIHF_itd_file.csv\"\n",
    "dataset=pd.read_csv(user_file,header=None)\n",
    "array=dataset.values"
   ]
  },
  {
   "cell_type": "code",
   "execution_count": 13,
   "metadata": {},
   "outputs": [
    {
     "name": "stdout",
     "output_type": "stream",
     "text": [
      "182\n",
      "759\n",
      "dataframe row no= 182 ,dataframe col no= 758\n",
      "(182, 758)\n",
      "(182, 758)\n"
     ]
    }
   ],
   "source": [
    "row_no=array.shape[0]\n",
    "col_no=array.shape[1]\n",
    "\n",
    "print(row_no)\n",
    "print(col_no)\n",
    "# normalize the data attributes\n",
    "dataframe = preprocessing.normalize(array[:,0:col_no-1])\n",
    "print(\"dataframe row no=\",dataframe.shape[0],\",dataframe col no=\",dataframe.shape[1])\n",
    "#X_train=dataframe[0:int(row_no*0.6),0:col_no-1]\n",
    "X_train=dataframe[:,0:col_no-1]\n",
    "print(X_train.shape)\n",
    "X_test=dataframe[:,0:col_no-1]\n",
    "print(X_test.shape)"
   ]
  },
  {
   "cell_type": "code",
   "execution_count": 17,
   "metadata": {},
   "outputs": [
    {
     "name": "stdout",
     "output_type": "stream",
     "text": [
      "Train on 127 samples, validate on 55 samples\n",
      "Epoch 1/50\n",
      "127/127 [==============================] - 2s 12ms/step - loss: 0.0013 - val_loss: 0.0012\n",
      "Epoch 2/50\n",
      "127/127 [==============================] - 0s 2ms/step - loss: 0.0011 - val_loss: 0.0011\n",
      "Epoch 3/50\n",
      "127/127 [==============================] - 0s 1ms/step - loss: 0.0010 - val_loss: 0.0010\n",
      "Epoch 4/50\n",
      "127/127 [==============================] - 0s 1ms/step - loss: 9.6757e-04 - val_loss: 0.0010\n",
      "Epoch 5/50\n",
      "127/127 [==============================] - 0s 1ms/step - loss: 9.4718e-04 - val_loss: 9.9097e-04\n",
      "Epoch 6/50\n",
      "127/127 [==============================] - 0s 2ms/step - loss: 9.3382e-04 - val_loss: 9.7533e-04\n",
      "Epoch 7/50\n",
      "127/127 [==============================] - 0s 1ms/step - loss: 9.1782e-04 - val_loss: 9.5736e-04\n",
      "Epoch 8/50\n",
      "127/127 [==============================] - 0s 1ms/step - loss: 8.9956e-04 - val_loss: 9.4120e-04\n",
      "Epoch 9/50\n",
      "127/127 [==============================] - 0s 1ms/step - loss: 8.7499e-04 - val_loss: 9.1592e-04\n",
      "Epoch 10/50\n",
      "127/127 [==============================] - 0s 1ms/step - loss: 8.4579e-04 - val_loss: 8.9264e-04\n",
      "Epoch 11/50\n",
      "127/127 [==============================] - 0s 1ms/step - loss: 8.2468e-04 - val_loss: 8.7940e-04\n",
      "Epoch 12/50\n",
      "127/127 [==============================] - 0s 1ms/step - loss: 8.0280e-04 - val_loss: 8.5843e-04\n",
      "Epoch 13/50\n",
      "127/127 [==============================] - 0s 894us/step - loss: 7.8076e-04 - val_loss: 8.4858e-04\n",
      "Epoch 14/50\n",
      "127/127 [==============================] - 0s 1ms/step - loss: 7.7114e-04 - val_loss: 8.4216e-04\n",
      "Epoch 15/50\n",
      "127/127 [==============================] - 0s 1ms/step - loss: 7.6320e-04 - val_loss: 8.3643e-04\n",
      "Epoch 16/50\n",
      "127/127 [==============================] - 0s 1ms/step - loss: 7.5812e-04 - val_loss: 8.3263e-04\n",
      "Epoch 17/50\n",
      "127/127 [==============================] - 0s 1ms/step - loss: 7.5273e-04 - val_loss: 8.2871e-04\n",
      "Epoch 18/50\n",
      "127/127 [==============================] - 0s 1ms/step - loss: 7.4786e-04 - val_loss: 8.2423e-04\n",
      "Epoch 19/50\n",
      "127/127 [==============================] - 0s 1ms/step - loss: 7.3286e-04 - val_loss: 7.6353e-04\n",
      "Epoch 20/50\n",
      "127/127 [==============================] - 0s 936us/step - loss: 6.4489e-04 - val_loss: 6.4491e-04\n",
      "Epoch 21/50\n",
      "127/127 [==============================] - 0s 994us/step - loss: 5.7563e-04 - val_loss: 5.7236e-04\n",
      "Epoch 22/50\n",
      "127/127 [==============================] - 0s 1ms/step - loss: 5.4320e-04 - val_loss: 5.2739e-04\n",
      "Epoch 23/50\n",
      "127/127 [==============================] - 0s 1ms/step - loss: 5.1005e-04 - val_loss: 4.8942e-04\n",
      "Epoch 24/50\n",
      "127/127 [==============================] - 0s 2ms/step - loss: 4.8870e-04 - val_loss: 4.7395e-04\n",
      "Epoch 25/50\n",
      "127/127 [==============================] - 0s 2ms/step - loss: 4.7391e-04 - val_loss: 4.6059e-04\n",
      "Epoch 26/50\n",
      "127/127 [==============================] - 0s 1ms/step - loss: 4.6392e-04 - val_loss: 4.5257e-04\n",
      "Epoch 27/50\n",
      "127/127 [==============================] - 0s 2ms/step - loss: 4.5553e-04 - val_loss: 4.4329e-04\n",
      "Epoch 28/50\n",
      "127/127 [==============================] - 0s 2ms/step - loss: 4.5136e-04 - val_loss: 4.3683e-04\n",
      "Epoch 29/50\n",
      "127/127 [==============================] - 0s 2ms/step - loss: 4.4540e-04 - val_loss: 4.3289e-04\n",
      "Epoch 30/50\n",
      "127/127 [==============================] - 0s 1ms/step - loss: 4.4155e-04 - val_loss: 4.2833e-04\n",
      "Epoch 31/50\n",
      "127/127 [==============================] - 0s 1ms/step - loss: 4.3724e-04 - val_loss: 4.2345e-04\n",
      "Epoch 32/50\n",
      "127/127 [==============================] - 0s 1ms/step - loss: 4.2971e-04 - val_loss: 3.9837e-04\n",
      "Epoch 33/50\n",
      "127/127 [==============================] - 0s 2ms/step - loss: 4.1015e-04 - val_loss: 3.9765e-04\n",
      "Epoch 34/50\n",
      "127/127 [==============================] - 0s 2ms/step - loss: 4.0388e-04 - val_loss: 3.9039e-04\n",
      "Epoch 35/50\n",
      "127/127 [==============================] - 0s 2ms/step - loss: 4.0177e-04 - val_loss: 3.8535e-04\n",
      "Epoch 36/50\n",
      "127/127 [==============================] - 0s 2ms/step - loss: 3.9843e-04 - val_loss: 3.8421e-04\n",
      "Epoch 37/50\n",
      "127/127 [==============================] - 0s 1ms/step - loss: 3.9448e-04 - val_loss: 3.7860e-04\n",
      "Epoch 38/50\n",
      "127/127 [==============================] - 0s 2ms/step - loss: 3.9095e-04 - val_loss: 3.7563e-04\n",
      "Epoch 39/50\n",
      "127/127 [==============================] - 0s 2ms/step - loss: 3.8795e-04 - val_loss: 3.7166e-04\n",
      "Epoch 40/50\n",
      "127/127 [==============================] - 0s 1ms/step - loss: 3.8441e-04 - val_loss: 3.6759e-04\n",
      "Epoch 41/50\n",
      "127/127 [==============================] - 0s 1ms/step - loss: 3.8031e-04 - val_loss: 3.6424e-04\n",
      "Epoch 42/50\n",
      "127/127 [==============================] - 0s 1ms/step - loss: 3.7754e-04 - val_loss: 3.6263e-04\n",
      "Epoch 43/50\n",
      "127/127 [==============================] - 0s 1ms/step - loss: 3.7400e-04 - val_loss: 3.5789e-04\n",
      "Epoch 44/50\n",
      "127/127 [==============================] - 0s 1ms/step - loss: 3.7233e-04 - val_loss: 3.5426e-04\n",
      "Epoch 45/50\n",
      "127/127 [==============================] - 0s 1ms/step - loss: 3.6875e-04 - val_loss: 3.5345e-04\n",
      "Epoch 46/50\n",
      "127/127 [==============================] - 0s 1ms/step - loss: 3.6612e-04 - val_loss: 3.4935e-04\n",
      "Epoch 47/50\n",
      "127/127 [==============================] - 0s 1ms/step - loss: 3.6426e-04 - val_loss: 3.4765e-04\n",
      "Epoch 48/50\n",
      "127/127 [==============================] - 0s 1ms/step - loss: 3.6207e-04 - val_loss: 3.4437e-04\n",
      "Epoch 49/50\n",
      "127/127 [==============================] - 0s 1ms/step - loss: 3.5796e-04 - val_loss: 3.4316e-04\n",
      "Epoch 50/50\n",
      "127/127 [==============================] - 0s 1ms/step - loss: 3.5628e-04 - val_loss: 3.4065e-04\n"
     ]
    }
   ],
   "source": [
    "# this is the input size, size of each row. last column is discarded as it represents label\n",
    "INPUT_SIZE=col_no-1\n",
    "# this is(16) the size of our encoded representations\n",
    "ENCODING_SIZE = 10\n",
    "# this is our input placeholder\n",
    "input_row = Input(shape=(INPUT_SIZE,))\n",
    "\n",
    "\n",
    "encoded = Dense(12, activation='relu')(input_row)\n",
    "encoded = Dense(8, activation='relu')(encoded)\n",
    "encoded = Dense(ENCODING_SIZE, activation='relu')(encoded)\n",
    "\n",
    "decoded = Dense(8, activation='relu')(encoded)\n",
    "decoded = Dense(12, activation='relu')(decoded)\n",
    "decoded = Dense(INPUT_SIZE, activation='relu')(decoded)\n",
    "\n",
    "autoencoder = Model(input_row, decoded)\n",
    "\n",
    "autoencoder.compile(optimizer='adam', loss='mean_squared_error')\n",
    "\n",
    "autoencoder_train=autoencoder.fit(X_train, X_train, epochs=50, batch_size=10, shuffle=True, validation_split=0.3)"
   ]
  },
  {
   "cell_type": "code",
   "execution_count": 18,
   "metadata": {},
   "outputs": [
    {
     "data": {
      "image/png": "[encoded data removed]",
      "text/plain": [
       "<Figure size 432x288 with 1 Axes>"
      ]
     },
     "metadata": {
      "needs_background": "light"
     },
     "output_type": "display_data"
    }
   ],
   "source": [
    "# compute graph for Training loss and validation loss\n",
    "loss = autoencoder_train.history['loss']\n",
    "val_loss = autoencoder_train.history['val_loss']\n",
    "#print(val_loss)\n",
    "epochs = range(50)\n",
    "plt.figure()\n",
    "plt.plot(epochs, loss, 'bo', label='Training loss')\n",
    "plt.plot(epochs, val_loss, 'b', label='Validation loss')\n",
    "plt.title('Training and validation loss')\n",
    "plt.legend()\n",
    "#plt.show()\n",
    "plt.tight_layout()\n",
    "plt.savefig(\"loss_user_try.jpg\")"
   ]
  }
 ],
 "metadata": {
  "kernelspec": {
   "display_name": "Python 3",
   "language": "python",
   "name": "python3"
  },
  "language_info": {
   "codemirror_mode": {
    "name": "ipython",
    "version": 3
   },
   "file_extension": ".py",
   "mimetype": "text/x-python",
   "name": "python",
   "nbconvert_exporter": "python",
   "pygments_lexer": "ipython3",
   "version": "3.7.7"
  }
 },
 "nbformat": 4,
 "nbformat_minor": 4
}
