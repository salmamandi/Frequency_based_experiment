{
 "cells": [
  {
   "cell_type": "code",
   "execution_count": 3,
   "metadata": {},
   "outputs": [],
   "source": [
    "import pandas as pd\n",
    "import csv\n",
    "header=['Emotion Models','AUCROC(%)']\n",
    "rows=[['AGG','60'],['AUF','57'],['Model-1','65'],\n",
    "     ['Model-2','64']]\n",
    "with open(\"model_performance.csv\",'w') as resultfile:\n",
    "    csvwriter = csv.writer(resultfile)  \n",
    "        \n",
    "    # writing the fields  \n",
    "    csvwriter.writerow(header)  \n",
    "        \n",
    "    # writing the data rows  \n",
    "    csvwriter.writerows(rows) \n",
    "    "
   ]
  },
  {
   "cell_type": "code",
   "execution_count": 2,
   "metadata": {},
   "outputs": [
    {
     "name": "stdout",
     "output_type": "stream",
     "text": [
      "<class 'tuple'>\n"
     ]
    },
    {
     "data": {
      "image/png": "[encoded data removed]",
      "text/plain": [
       "<Figure size 432x288 with 1 Axes>"
      ]
     },
     "metadata": {
      "needs_background": "light"
     },
     "output_type": "display_data"
    }
   ],
   "source": [
    "# stacked bar plot\n",
    "import numpy as np\n",
    "import matplotlib.pyplot as plt\n",
    "\n",
    "\n",
    "N = 5\n",
    "menMeans = (20, 35, 30, 35, 27)\n",
    "womenMeans = (25, 32, 34, 20, 25)\n",
    "#menStd = (2, 3, 4, 1, 2)\n",
    "#womenStd = (3, 5, 2, 3, 3)\n",
    "ind = np.arange(N)    # the x locations for the groups\n",
    "width = 0.35       # the width of the bars: can also be len(x) sequence\n",
    "\n",
    "p1 = plt.bar(ind, menMeans, width)\n",
    "p2 = plt.bar(ind, womenMeans, width,\n",
    "             bottom=menMeans)\n",
    "\n",
    "plt.ylabel('Scores')\n",
    "plt.title('Scores by group and gender')\n",
    "plt.xticks(ind, ('G1', 'G2', 'G3', 'G4', 'G5'))\n",
    "plt.yticks(np.arange(0, 81, 10))\n",
    "plt.legend((p1[0], p2[0]), ('Men', 'Women'))\n",
    "\n",
    "plt.show()\n"
   ]
  },
  {
   "cell_type": "code",
   "execution_count": null,
   "metadata": {},
   "outputs": [],
   "source": [
    "# stacked bar plot for four emotions\n",
    "import pandas as pd\n",
    "import matplotlib.pyplot as plt\n",
    "import numpy as np\n",
    "#mpl.use('agg')\n",
    "\n",
    "dataset=pd.read_csv(\"unbalance.csv\")\n",
    "array=dataset.values\n",
    "#print(array)\n",
    "Happy=tuple(array[:,0])\n",
    "\n",
    "Sad=tuple(array[:,1])\n",
    "Stressed=tuple(array[:,2])\n",
    "Relaxed=tuple(array[:,3])\n",
    "print(Happy)\n",
    "print(Sad)\n",
    "print(Stressed)\n",
    "res = tuple(map(sum, zip(Happy, Sad))) \n",
    "res2=tuple(map(sum, zip(Happy, Sad,Stressed))) \n",
    "#print(Relaxed)\n",
    "\n",
    "N = 22\n",
    "ind = np.arange(N)    # the x locations for the groups\n",
    "width = 0.70 \n",
    "X_labels=[1,2,3,4,5,6,7,8,9,10,11,12,13,14,15,16,17,18,19,20,21,22]\n",
    "X_labels=tuple(X_labels)\n",
    "p1 = plt.bar(ind, Happy, width,color='#464196')\n",
    "p2 = plt.bar(ind, Sad, width,bottom=Happy)\n",
    "p3=plt.bar(ind, Stressed, width,bottom=res)\n",
    "p4=plt.bar(ind, Relaxed, width,bottom=res2)\n",
    "#plt.ylabel('Scores')\n",
    "#plt.title('Scores by group and gender')\n",
    "plt.ylabel(\"Emotion Label(%)\",fontsize=16,fontweight='bold')\n",
    "plt.xlabel(\"Users\",fontsize=16,fontweight='bold')\n",
    "plt.xticks(ind, X_labels)\n",
    "plt.xticks(fontsize=14,rotation=90)\n",
    "plt.yticks(np.arange(0, 121, 10))\n",
    "plt.yticks(fontsize=14)\n",
    "plt.legend((p1[0], p2[0],p3[0],p4[0]), ('Happy', 'Sad','Stressed','Relaxed'),loc='upper center',ncol=4)\n",
    "\n",
    "#plt.show()\n",
    "plt.tight_layout()\n",
    "plt.savefig('fig1.jpg')\n",
    "\n"
   ]
  },
  {
   "cell_type": "code",
   "execution_count": 4,
   "metadata": {},
   "outputs": [],
   "source": [
    "import pandas as pd\n",
    "import csv\n",
    "header=['Users','AUCROC(%)']\n",
    "rows=[[1,72],[2,73],[3,67],\n",
    "[4,67],\n",
    "[5,61],\n",
    "[6,71],\n",
    "[7,84],\n",
    "[8,77],\n",
    "[9,80],\n",
    "[10,53],\n",
    "[11,55],\n",
    "[12,68],\n",
    "[13,50],\n",
    "[14,61],\n",
    "[15,62],\n",
    "[16,42],\n",
    "[17,50],\n",
    "[18,57],\n",
    "[19,56],\n",
    "[20,61],\n",
    "[21,46],\n",
    "[22,68]]\n",
    "\n",
    "with open(\"MSI_RMSI_model2.csv\",'w') as resultfile:\n",
    "    csvwriter = csv.writer(resultfile)  \n",
    "        \n",
    "    # writing the fields  \n",
    "    csvwriter.writerow(header)  \n",
    "        \n",
    "    # writing the data rows  \n",
    "    csvwriter.writerows(rows) \n"
   ]
  },
  {
   "cell_type": "code",
   "execution_count": 3,
   "metadata": {},
   "outputs": [
    {
     "data": {
      "text/plain": [
       "(0, 100)"
      ]
     },
     "execution_count": 3,
     "metadata": {},
     "output_type": "execute_result"
    },
    {
     "data": {
      "image/png": "[encoded data removed]",
      "text/plain": [
       "<Figure size 432x288 with 1 Axes>"
      ]
     },
     "metadata": {
      "needs_background": "light"
     },
     "output_type": "display_data"
    }
   ],
   "source": [
    "import  pandas as pd \n",
    "%matplotlib inline\n",
    "\n",
    "dataset = pd.read_csv(\"model_performance.csv\")\n",
    "#frequencies = [65,64]\n",
    "# In my original code I create a series and run on that, \n",
    "# so for consistency I create a series from the list.\n",
    "#freq_series = pd.Series.from_array(frequencies)\n",
    "\n",
    "\n",
    "#dataset.plot.bar()\n",
    "# this are for X-labels\n",
    "X_labels=['AGG','AUF','Model-1','Model-2']\n",
    "\n",
    "ax = dataset.plot(kind='bar')\n",
    "# this is for title\n",
    "#ax.set_title('Model-1',fontsize=16,fontweight='bold')\n",
    "#ax.set_xlabel('')\n",
    "# this is for y label\n",
    "ax.set_ylabel('AUCROC(%)',fontsize=16,fontweight='bold')\n",
    "# this is for X-label\n",
    "ax.set_xticklabels(X_labels,fontsize=30,fontweight='bold')\n",
    "# increase the font size of label size along x and y-axis\n",
    "ax.yaxis.set_tick_params(labelsize=20)\n",
    "ax.xaxis.set_tick_params(labelsize=10)\n",
    "# remove the legend\n",
    "ax.get_legend().remove()\n",
    "# value range for y-axis\n",
    "ax.set_ylim(0, 100)\n",
    "\n"
   ]
  },
  {
   "cell_type": "code",
   "execution_count": null,
   "metadata": {},
   "outputs": [],
   "source": []
  },
  {
   "cell_type": "code",
   "execution_count": 9,
   "metadata": {},
   "outputs": [
    {
     "data": {
      "text/plain": [
       "(0, 100)"
      ]
     },
     "execution_count": 9,
     "metadata": {},
     "output_type": "execute_result"
    },
    {
     "data": {
      "image/png": "[encoded data removed]",
      "text/plain": [
       "<Figure size 432x288 with 1 Axes>"
      ]
     },
     "metadata": {
      "needs_background": "light"
     },
     "output_type": "display_data"
    }
   ],
   "source": [
    "import pandas as pd\n",
    "%matplotlib inline\n",
    "#import matplotlib.pyplot as plt\n",
    "\n",
    "dataset = pd.read_csv(\"model_performance_user.csv\")\n",
    "#array=dataset.values\n",
    "#data=array[:,1]\n",
    "#print(dataset)\n",
    "#frequencies = [65,64]\n",
    "# In my original code I create a series and run on that, \n",
    "# so for consistency I create a series from the list.\n",
    "#freq_series = pd.Series.from_array(frequencies)\n",
    "\n",
    "\n",
    "#dataset.plot.bar()\n",
    "# this are for X-labels\n",
    "X_labels=[1,2,3,4,5,6,7,8,9,10,11,12,13,14,15,16,17,18,19,20,21,22]\n",
    "\n",
    "\n",
    "\n",
    "ax = dataset.plot(kind='bar')\n",
    "#########################\n",
    "# this is for title\n",
    "#ax.set_title('Model-1',fontsize=16,fontweight='bold')\n",
    "#ax.set_xlabel('')\n",
    "# this is for y label\n",
    "ax.set_ylabel('AUCROC(%)',fontsize=16,fontweight='bold')\n",
    "ax.set_xlabel('User',fontsize=16,fontweight='bold')\n",
    "# this is for X-label\n",
    "ax.set_xticklabels(X_labels,fontsize=20,fontweight='bold')\n",
    "# increase the font size of label size along x and y-axis\n",
    "ax.yaxis.set_tick_params(labelsize=20)\n",
    "ax.xaxis.set_tick_params(labelsize=10)\n",
    "\n",
    "# remove the legend\n",
    "ax.get_legend().remove()\n",
    "# value range for y-axis\n",
    "ax.set_ylim(0, 100)\n",
    "\n",
    "\n"
   ]
  },
  {
   "cell_type": "code",
   "execution_count": 11,
   "metadata": {},
   "outputs": [
    {
     "data": {
      "image/png": "[encoded data removed]",
      "text/plain": [
       "<Figure size 432x288 with 1 Axes>"
      ]
     },
     "metadata": {
      "needs_background": "light"
     },
     "output_type": "display_data"
    }
   ],
   "source": [
    "import pandas as pd\n",
    "import matplotlib.pyplot as plt\n",
    "import numpy as np\n",
    "\n",
    "dataset = pd.read_csv(\"MSI_RMSI_model.csv\")\n",
    "array=dataset.values\n",
    "data=array[:,0].tolist()\n",
    "\n",
    "\n",
    "#fig,ax = plt.figure(1, figsize=(9, 6))\n",
    " \n",
    "fig,ax = plt.subplots()\n",
    "X_labels=[1,2,3,4,5,6,7,8,9,10,11,12,13,14,15,16,17,18,19,20,21,22]\n",
    "y_pos=np.arange(len(X_labels))\n",
    "# set width of bar\n",
    "#rect1=ax.bar(y_pos + 0, data, width=0.5, color = 'c', label='legend title')\n",
    "rect1=ax.bar(y_pos + 0, data, width=0.5, label='legend title')\n",
    "# Define X-axis labels\n",
    "ax.set_ylabel('AUCROC(%)',fontsize=16,fontweight='bold')\n",
    "ax.set_xlabel('User',fontsize=16,fontweight='bold')\n",
    "# this is for X-label\n",
    "ax.set_xticks(y_pos)\n",
    "ax.set_xticklabels(X_labels,fontsize=16,fontweight='bold')\n",
    "#ax.set_xticklabels(X_labels,fontsize=20,fontweight='bold')\n",
    "# increase the font size of label size along x and y-axis\n",
    "ax.yaxis.set_tick_params(labelsize=20)\n",
    "ax.xaxis.set_tick_params(labelsize=10)\n",
    "ax.yaxis.grid(True)\n",
    "# remove the legend\n",
    "#ax.get_legend().remove()\n",
    "# value range for y-axis\n",
    "ax.set_ylim(0, 100)\n",
    "#plt.figure(figsize=(9,6))\n",
    "plt.tight_layout()\n",
    "plt.savefig('TDF_user.png')\n",
    "plt.show()\n",
    "\n",
    "#fig.tight_layout()\n",
    "#fig.savefig('TDF_user.png')\n",
    "#fig.show()\n"
   ]
  },
  {
   "cell_type": "code",
   "execution_count": 12,
   "metadata": {},
   "outputs": [
    {
     "data": {
      "image/png": "[encoded data removed]",
      "text/plain": [
       "<Figure size 432x288 with 1 Axes>"
      ]
     },
     "metadata": {
      "needs_background": "light"
     },
     "output_type": "display_data"
    }
   ],
   "source": [
    "# this code for ploting grouped bar plot\n",
    "\n",
    "# libraries\n",
    "import numpy as np\n",
    "import matplotlib.pyplot as plt\n",
    " \n",
    "# set width of bar\n",
    "barWidth = 0.25\n",
    "\n",
    "# set height of bar\n",
    "bars1 = [66,62,67,60]\n",
    "bars2 = [48,32,40,57]\n",
    "\n",
    "# Set position of bar on X axis\n",
    "r1 = np.arange(len(bars1))\n",
    "r2 = [x + barWidth for x in r1]\n",
    "\n",
    "# Make the plot\n",
    "plt.bar(r1, bars1, color='#7f6d5f', width=barWidth, edgecolor='white',label='var1')\n",
    "plt.bar(r2, bars2, color='#557f2d', width=barWidth, edgecolor='white', label='var2')\n",
    "\n",
    "# Add xticks on the middle of the group bars\n",
    "plt.xlabel('group', fontweight='bold')\n",
    "plt.xticks([r + barWidth for r in range(len(bars1))], ['Happy','Sad','Stressed','Relaxed'])\n",
    "\n",
    "# Create legend & Show graphic\n",
    "plt.legend()\n",
    "plt.show()\n"
   ]
  },
  {
   "cell_type": "code",
   "execution_count": 10,
   "metadata": {},
   "outputs": [
    {
     "data": {
      "image/png": "[encoded data removed]",
      "text/plain": [
       "<Figure size 432x288 with 1 Axes>"
      ]
     },
     "metadata": {
      "needs_background": "light"
     },
     "output_type": "display_data"
    }
   ],
   "source": [
    "#another process to plot grouped bar chart\n",
    "import matplotlib\n",
    "import matplotlib.pyplot as plt\n",
    "import numpy as np\n",
    "\n",
    "\n",
    "labels = ['Happy','Sad','Stressed','Relaxed']\n",
    "#men_means = [66,61,67,61]\n",
    "#men_means=[77,75,71,71]\n",
    "#women_means = [45,35,40,56]\n",
    "#women_means=[60,52,45,66]\n",
    "men_means = [76,73,68,67]\n",
    "women_means=[58,51,44,63]\n",
    "\n",
    "\n",
    "x = np.arange(len(labels))  # the label locations\n",
    "width = 0.35  # the width of the bars\n",
    "\n",
    "fig, ax = plt.subplots()\n",
    "rects1 = ax.bar(x - width/2, men_means, width, label='AUCROC')\n",
    "rects2 = ax.bar(x + width/2, women_means, width, label='F-score')\n",
    "\n",
    "# Add some text for labels, title and custom x-axis tick labels, etc.\n",
    "ax.set_ylabel('Mean AUCROC(%)',fontsize=16,fontweight='bold')\n",
    "#ax.set_xlabel('Emotion state',fontsize=16,fontweight='bold')\n",
    "#ax.set_title('Scores by group and gender')\n",
    "ax.set_xticks(x)\n",
    "ax.set_xticklabels(labels,fontsize=16,fontweight='bold')\n",
    "ax.yaxis.set_tick_params(labelsize=20)\n",
    "ax.xaxis.set_tick_params(labelsize=15)\n",
    "ax.yaxis.grid(True)\n",
    "ax.set_ylim(0, 100)\n",
    "ax.legend()\n",
    "# Save the figure and show\n",
    "#plt.figure(figsize=(9,6))\n",
    "plt.tight_layout()\n",
    "plt.savefig('TDF_emotion.png')\n",
    "#plt.show()"
   ]
  },
  {
   "cell_type": "code",
   "execution_count": 1,
   "metadata": {},
   "outputs": [
    {
     "data": {
      "image/png": "[encoded data removed]",
      "text/plain": [
       "<Figure size 432x288 with 1 Axes>"
      ]
     },
     "metadata": {
      "needs_background": "light"
     },
     "output_type": "display_data"
    }
   ],
   "source": [
    "# libraries\n",
    "import numpy as np\n",
    "import matplotlib.pyplot as plt\n",
    " \n",
    "# set width of bar\n",
    "barWidth = 0.15\n",
    " \n",
    "# set height of bar\n",
    "TDF = [76,73,68,67 ]\n",
    "FDF = [66,61,67,61]\n",
    "AGG=[79,75,74,70]\n",
    "TNN = [52,52,54,53]\n",
    "FNN=[51,50,52,51]\n",
    "AGNN=[52,55,51,53]\n",
    " \n",
    "# Set position of bar on X axis\n",
    "r1 = np.arange(len(TDF))\n",
    "r2 = [x + barWidth for x in r1]\n",
    "r3= [x + barWidth for x in r2]\n",
    "r4 = [x + barWidth for x in r3]\n",
    "r5 = [x + barWidth for x in r4]\n",
    "r6 = [x + barWidth for x in r5]\n",
    "fig, ax = plt.subplots() \n",
    "# Make the plot\n",
    "plt.bar(r1, TDF, width=barWidth, edgecolor='white', label='TDF')\n",
    "plt.bar(r2, FDF, width=barWidth, edgecolor='white', label='FDF')\n",
    "plt.bar(r3, AGG, width=barWidth, edgecolor='white', label='HM')\n",
    "plt.bar(r4, TNN, width=barWidth, edgecolor='white', label='TNN-model')\n",
    "plt.bar(r5,FNN, width=barWidth,edgecolor='white', label='FNN-model') \n",
    "plt.bar(r6,AGNN, width=barWidth,color='#653700', edgecolor='white', label='AGNN-model')\n",
    "# Add xticks on the middle of the group bars\n",
    "#plt.xlabel('Emotion state', fontsize=16)\n",
    "plt.ylabel(\"mean AUCROC(%)\",fontsize=16)\n",
    "plt.xticks(fontsize=14)\n",
    "plt.yticks(fontsize=14)\n",
    "plt.ylim(0,100)\n",
    "#plt.ygrid(True)\n",
    "ax.yaxis.grid(True)\n",
    "plt.xticks([r + barWidth for r in range(len(TDF))], ['Happy', 'Sad', 'Stressed', 'Relaxed'])\n",
    "#plt.yticks(np.arange(0, 121, 10)) \n",
    "# Create legend & Show graphic\n",
    "plt.legend(loc='upper center',ncol=3)\n",
    "#plt.show()\n",
    "plt.tight_layout()\n",
    "plt.savefig('bar_plot_with_error_bars4.png')\n"
   ]
  },
  {
   "cell_type": "code",
   "execution_count": 3,
   "metadata": {},
   "outputs": [
    {
     "name": "stdout",
     "output_type": "stream",
     "text": [
      "12.920689411793516\n",
      "10.718120132446442\n",
      "12.322877333850402\n"
     ]
    },
    {
     "data": {
      "image/png": "[encoded data removed]",
      "text/plain": [
       "<Figure size 432x288 with 1 Axes>"
      ]
     },
     "metadata": {
      "needs_background": "light"
     },
     "output_type": "display_data"
    }
   ],
   "source": [
    "# process to plot bar with error bar\n",
    "import matplotlib\n",
    "import matplotlib.pyplot as plt\n",
    "import numpy as np\n",
    "import pandas as pd\n",
    "\n",
    "dataset = pd.read_csv(\"MSI_RMSI_model.csv\")\n",
    "array=dataset.values\n",
    "# raw data\n",
    "\n",
    "TDF_data=array[:,0]\n",
    "FDF_data=array[:,1]\n",
    "AGG_data=array[:,2]\n",
    "TNN_data=array[:,3]\n",
    "FNN_data=array[:,4]\n",
    "AGNN_data=array[:,5]\n",
    "#print(NN_data)\n",
    "\n",
    "# Calculate the average\n",
    "TDF_mean = np.mean(TDF_data)\n",
    "FDF_mean = np.mean(FDF_data)\n",
    "AGG_mean= np.mean(AGG_data)\n",
    "TNN_mean = np.mean(TNN_data)\n",
    "FNN_mean = np.mean(FNN_data)\n",
    "AGNN_mean = np.mean(AGNN_data)\n",
    "# Calculate the standard deviation\n",
    "\n",
    "TDF_std = np.std(TDF_data)\n",
    "print(TDF_std)\n",
    "FDF_std = np.std(FDF_data)\n",
    "print(FDF_std)\n",
    "AGG_std = np.std(AGG_data)\n",
    "print(AGG_std)\n",
    "TNN_std = np.std(TNN_data)\n",
    "#print(TNN_std)\n",
    "FNN_std = np.std(FNN_data)\n",
    "#print(FNN_std)\n",
    "AGNN_std = np.std(AGNN_data)\n",
    "#print(AGNN_std)\n",
    "# Create lists for the plot\n",
    "materials = ['TDF', 'FDF','HM','TNN','FNN','AGNN' ]\n",
    "x_pos = np.arange(len(materials))\n",
    "CTEs = [TDF_mean, FDF_mean,AGG_mean,TNN_mean,FNN_mean,AGNN_mean]\n",
    "error = [ TDF_std, FDF_std,AGG_std,TNN_std,FNN_std,AGNN_std]\n",
    "\n",
    "# Build the plot\n",
    "fig, ax = plt.subplots()\n",
    "ax.bar(x_pos, CTEs, yerr=error, align='center', alpha=0.5, ecolor='black', capsize=10)\n",
    "ax.set_ylabel('Mean AUCROC(%)',fontsize=16,fontweight='bold')\n",
    "ax.set_xlabel('Emotion models',fontsize=16,fontweight='bold')\n",
    "ax.set_xticks(x_pos)\n",
    "ax.set_xticklabels(materials,fontsize=16,fontweight='bold')\n",
    "#ax.set_title('Coefficent of Thermal Expansion (CTE) of Three Metals')\n",
    "ax.yaxis.grid(True)\n",
    "ax.yaxis.set_tick_params(labelsize=20)\n",
    "ax.set_ylim(0, 100)\n",
    "# Save the figure and show\n",
    "plt.tight_layout()\n",
    "plt.savefig('bar_plot_with_error_bars4.png')\n",
    "plt.show()\n",
    "\n",
    "\n"
   ]
  },
  {
   "cell_type": "code",
   "execution_count": null,
   "metadata": {},
   "outputs": [],
   "source": []
  }
 ],
 "metadata": {
  "kernelspec": {
   "display_name": "Python 3",
   "language": "python",
   "name": "python3"
  },
  "language_info": {
   "codemirror_mode": {
    "name": "ipython",
    "version": 3
   },
   "file_extension": ".py",
   "mimetype": "text/x-python",
   "name": "python",
   "nbconvert_exporter": "python",
   "pygments_lexer": "ipython3",
   "version": "3.7.7"
  }
 },
 "nbformat": 4,
 "nbformat_minor": 4
}
